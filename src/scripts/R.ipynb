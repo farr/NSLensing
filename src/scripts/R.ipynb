{
 "cells": [
  {
   "cell_type": "markdown",
   "metadata": {},
   "source": [
    "# Rotation matrix for spherical harmonics"
   ]
  },
  {
   "cell_type": "markdown",
   "metadata": {},
   "source": [
    "We begin by importing some stuff and defining our functions:"
   ]
  },
  {
   "cell_type": "code",
   "execution_count": 1,
   "metadata": {},
   "outputs": [
    {
     "name": "stderr",
     "output_type": "stream",
     "text": [
      "WARNING (theano.link.c.cmodule): install mkl with `conda install mkl-service`: No module named 'mkl'\n"
     ]
    },
    {
     "name": "stdout",
     "output_type": "stream",
     "text": [
      "\n",
      "Using sympy version 1.12\n"
     ]
    }
   ],
   "source": [
    "import numpy as np\n",
    "from IPython.display import display, Math\n",
    "import sympy\n",
    "from sympy import *\n",
    "from sympy.functions.special.tensor_functions import KroneckerDelta\n",
    "import starry\n",
    "import matplotlib\n",
    "%matplotlib inline\n",
    "\n",
    "# Initialize the session\n",
    "init_session(quiet=True)\n",
    "\n",
    "# I am using the dev version of sympy\n",
    "print(\"Using sympy version\", sympy.__version__)\n",
    "\n",
    "# Define our symbols\n",
    "l, m, n, alpha, beta, gamma, u1, u2, u3, theta = symbols('l m n alpha beta gamma u1 u2 u3 theta')"
   ]
  },
  {
   "cell_type": "code",
   "execution_count": 2,
   "metadata": {},
   "outputs": [],
   "source": [
    "def Dmn(l, m, n, alpha, beta, gamma):\n",
    "    \"\"\"Compute the (m, n) term of the Wigner D matrix.\"\"\"\n",
    "    sumterm = 0\n",
    "    # Expression diverges when beta = 0\n",
    "    if beta == 0:\n",
    "        beta = 1e-16\n",
    "    for k in range(l + m + 1):\n",
    "        sumterm += (-1) ** k * cos(beta / 2) ** (2 * l + m - n - 2 * k) * \\\n",
    "                   sin(beta / 2) ** (-m + n + 2 * k) / \\\n",
    "                   (factorial(k) * factorial(l + m - k) * factorial(l - n - k) * factorial(n - m + k))\n",
    "    return sumterm * exp(-I * (alpha * n + gamma * m)) * (-1) ** (n + m) * \\\n",
    "           sqrt(factorial(l - m) * factorial(l + m) * factorial(l - n) * factorial(l + n))"
   ]
  },
  {
   "cell_type": "code",
   "execution_count": 3,
   "metadata": {},
   "outputs": [
    {
     "data": {
      "text/latex": [
       "$\\displaystyle \\left[\\begin{matrix}1.0 e^{- i \\left(- \\alpha - \\gamma\\right)} \\cos^{2}{\\left(\\frac{\\beta}{2} \\right)} & - 1.0 \\sqrt{2} e^{i \\gamma} \\sin{\\left(\\frac{\\beta}{2} \\right)} \\cos{\\left(\\frac{\\beta}{2} \\right)} & e^{- i \\left(\\alpha - \\gamma\\right)} \\sin^{2}{\\left(\\frac{\\beta}{2} \\right)}\\\\1.0 \\sqrt{2} e^{i \\alpha} \\sin{\\left(\\frac{\\beta}{2} \\right)} \\cos{\\left(\\frac{\\beta}{2} \\right)} & - \\sin^{2}{\\left(\\frac{\\beta}{2} \\right)} + \\cos^{2}{\\left(\\frac{\\beta}{2} \\right)} & - \\sqrt{2} e^{- i \\alpha} \\sin{\\left(\\frac{\\beta}{2} \\right)} \\cos{\\left(\\frac{\\beta}{2} \\right)}\\\\e^{- i \\left(- \\alpha + \\gamma\\right)} \\sin^{2}{\\left(\\frac{\\beta}{2} \\right)} & \\sqrt{2} e^{- i \\gamma} \\sin{\\left(\\frac{\\beta}{2} \\right)} \\cos{\\left(\\frac{\\beta}{2} \\right)} & e^{- i \\left(\\alpha + \\gamma\\right)} \\cos^{2}{\\left(\\frac{\\beta}{2} \\right)}\\end{matrix}\\right]$"
      ],
      "text/plain": [
       "⎡     -ⅈ⋅(-α - γ)    2⎛β⎞            ⅈ⋅γ    ⎛β⎞    ⎛β⎞     -ⅈ⋅(α - γ)    2⎛β⎞ \n",
       "⎢1.0⋅ℯ           ⋅cos ⎜─⎟   -1.0⋅√2⋅ℯ   ⋅sin⎜─⎟⋅cos⎜─⎟    ℯ          ⋅sin ⎜─⎟ \n",
       "⎢                     ⎝2⎠                   ⎝2⎠    ⎝2⎠                    ⎝2⎠ \n",
       "⎢                                                                             \n",
       "⎢        ⅈ⋅α    ⎛β⎞    ⎛β⎞          2⎛β⎞      2⎛β⎞           -ⅈ⋅α    ⎛β⎞    ⎛β\n",
       "⎢1.0⋅√2⋅ℯ   ⋅sin⎜─⎟⋅cos⎜─⎟     - sin ⎜─⎟ + cos ⎜─⎟      -√2⋅ℯ    ⋅sin⎜─⎟⋅cos⎜─\n",
       "⎢               ⎝2⎠    ⎝2⎠           ⎝2⎠       ⎝2⎠                   ⎝2⎠    ⎝2\n",
       "⎢                                                                             \n",
       "⎢   -ⅈ⋅(-α + γ)    2⎛β⎞           -ⅈ⋅γ    ⎛β⎞    ⎛β⎞       -ⅈ⋅(α + γ)    2⎛β⎞ \n",
       "⎢  ℯ           ⋅sin ⎜─⎟       √2⋅ℯ    ⋅sin⎜─⎟⋅cos⎜─⎟      ℯ          ⋅cos ⎜─⎟ \n",
       "⎣                   ⎝2⎠                   ⎝2⎠    ⎝2⎠                      ⎝2⎠ \n",
       "\n",
       " ⎤\n",
       " ⎥\n",
       " ⎥\n",
       " ⎥\n",
       "⎞⎥\n",
       "⎟⎥\n",
       "⎠⎥\n",
       " ⎥\n",
       " ⎥\n",
       " ⎥\n",
       " ⎦"
      ]
     },
     "execution_count": 3,
     "metadata": {},
     "output_type": "execute_result"
    }
   ],
   "source": [
    "def D(l, alpha, beta, gamma):\n",
    "    \"\"\"Compute the Wigner D matrix.\"\"\"\n",
    "    res = zeros(2 * l + 1, 2 * l + 1)\n",
    "    for m in range(-l, l + 1):\n",
    "        for n in range(-l, l + 1):\n",
    "            res[m + l, n + l] = Dmn(l, m, n, alpha, beta, gamma)\n",
    "    return res\n",
    "\n",
    "# Print it for l = 1\n",
    "D(1, alpha, beta, gamma)"
   ]
  },
  {
   "cell_type": "code",
   "execution_count": 4,
   "metadata": {},
   "outputs": [],
   "source": [
    "def Umn(l, m, n):\n",
    "    \"\"\"Compute the (m, n) term of the transformation matrix from complex to real Ylms.\"\"\"\n",
    "    if n < 0:\n",
    "        term1 = I\n",
    "    elif n == 0:\n",
    "        term1 = sqrt(2) / 2\n",
    "    else:\n",
    "        term1 = 1\n",
    "    if (m > 0) and (n < 0) and (n % 2 == 0):\n",
    "        term2 = -1\n",
    "    elif (m > 0) and (n > 0) and (n % 2 != 0):\n",
    "        term2 = -1\n",
    "    else:\n",
    "        term2 = 1\n",
    "    return term1 * term2 * 1 / sqrt(2) * (KroneckerDelta(m, n) + KroneckerDelta(m, -n))"
   ]
  },
  {
   "cell_type": "code",
   "execution_count": 5,
   "metadata": {},
   "outputs": [
    {
     "data": {
      "text/latex": [
       "$\\displaystyle \\left[\\begin{matrix}\\frac{\\sqrt{2} i}{2} & 0 & \\frac{\\sqrt{2}}{2}\\\\0 & 1 & 0\\\\\\frac{\\sqrt{2} i}{2} & 0 & - \\frac{\\sqrt{2}}{2}\\end{matrix}\\right]$"
      ],
      "text/plain": [
       "⎡√2⋅ⅈ      √2 ⎤\n",
       "⎢────  0   ── ⎥\n",
       "⎢ 2        2  ⎥\n",
       "⎢             ⎥\n",
       "⎢ 0    1   0  ⎥\n",
       "⎢             ⎥\n",
       "⎢√2⋅ⅈ     -√2 ⎥\n",
       "⎢────  0  ────⎥\n",
       "⎣ 2        2  ⎦"
      ]
     },
     "execution_count": 5,
     "metadata": {},
     "output_type": "execute_result"
    }
   ],
   "source": [
    "def U(l):\n",
    "    \"\"\"Compute the U transformation matrix.\"\"\"\n",
    "    res = zeros(2 * l + 1, 2 * l + 1)\n",
    "    for m in range(-l, l + 1):\n",
    "        for n in range(-l, l + 1):\n",
    "            res[m + l, n+ l] = Umn(l, m, n)\n",
    "    return res\n",
    "\n",
    "# Print it for l = 1\n",
    "U(1)"
   ]
  },
  {
   "cell_type": "code",
   "execution_count": 6,
   "metadata": {},
   "outputs": [],
   "source": [
    "def REuler(l, alpha, beta, gamma):\n",
    "    \"\"\"Return the rotation matrix for a single degree `l`.\"\"\"\n",
    "    res = zeros(2 * l + 1, 2 * l + 1)\n",
    "    if l == 0:\n",
    "        res[0, 0] = 1\n",
    "        return res\n",
    "    foo = re(U(l).inv() * D(l, alpha, beta, gamma) * U(l))\n",
    "    for m in range(2 * l + 1):\n",
    "        for n in range(2 * l + 1):\n",
    "            if abs(foo[m, n]) < 1e-15:\n",
    "                res[m, n] = 0\n",
    "            else:\n",
    "                res[m, n] = foo[m, n]\n",
    "    return res"
   ]
  },
  {
   "cell_type": "markdown",
   "metadata": {},
   "source": [
    "To make things easier to visualize, let's convert our rotation matrix to the axis-angle formalism."
   ]
  },
  {
   "cell_type": "code",
   "execution_count": 7,
   "metadata": {},
   "outputs": [],
   "source": [
    "def RAxisAngle(l, u1, u2, u3, theta):\n",
    "    \"\"\"Axis-angle rotation matrix.\"\"\"\n",
    "    # Numerical tolerance\n",
    "    tol = 1e-16\n",
    "    if theta == 0:\n",
    "        theta = tol\n",
    "    if u1 == 0 and u2 == 0:\n",
    "        u1 = tol\n",
    "        u2 = tol\n",
    "        \n",
    "    # Elements of the transformation matrix\n",
    "    costheta = cos(theta)\n",
    "    sintheta = sin(theta)\n",
    "    RA01 = u1 * u2 * (1 - costheta) - u3 * sintheta\n",
    "    RA02 = u1 * u3 * (1 - costheta) + u2 * sintheta\n",
    "    RA11 = costheta + u2 * u2 * (1 - costheta)\n",
    "    RA12 = u2 * u3 * (1 - costheta) - u1 * sintheta\n",
    "    RA20 = u3 * u1 * (1 - costheta) - u2 * sintheta\n",
    "    RA21 = u3 * u2 * (1 - costheta) + u1 * sintheta\n",
    "    RA22 = costheta + u3 * u3 * (1 - costheta)\n",
    "\n",
    "    # Determine the Euler angles\n",
    "    if ((RA22 < -1 + tol) and (RA22 > -1 - tol)):\n",
    "        cosbeta = -1\n",
    "        sinbeta = 0\n",
    "        cosgamma = RA11\n",
    "        singamma = RA01\n",
    "        cosalpha = 1\n",
    "        sinalpha = 0\n",
    "    elif ((RA22 < 1 + tol) and (RA22 > 1 - tol)):\n",
    "        cosbeta = 1\n",
    "        sinbeta = 0\n",
    "        cosgamma = RA11\n",
    "        singamma = -RA01\n",
    "        cosalpha = 1\n",
    "        sinalpha = 0\n",
    "    else:\n",
    "        cosbeta = RA22\n",
    "        sinbeta = sqrt(1 - cosbeta ** 2)\n",
    "        norm1 = sqrt(RA20 * RA20 + RA21 * RA21)\n",
    "        norm2 = sqrt(RA02 * RA02 + RA12 * RA12)\n",
    "        cosgamma = -RA20 / norm1\n",
    "        singamma = RA21 / norm1\n",
    "        cosalpha = RA02 / norm2\n",
    "        sinalpha = RA12 / norm2\n",
    "    alpha = atan2(sinalpha, cosalpha)\n",
    "    beta = atan2(sinbeta, cosbeta)\n",
    "    gamma = atan2(singamma, cosgamma)\n",
    "    \n",
    "    return REuler(l, alpha, beta, gamma)"
   ]
  },
  {
   "cell_type": "markdown",
   "metadata": {},
   "source": [
    "Finally, note that `RAxisAngle` is the rotation matrix for a single degree `l`. To get the full rotation matrix, we construct it as a block diagonal matrix with the matrices for each `l` along the diagonal: "
   ]
  },
  {
   "cell_type": "code",
   "execution_count": 8,
   "metadata": {},
   "outputs": [],
   "source": [
    "def R(lmax, u1, u2, u3, theta):\n",
    "    \"\"\"Return the full axis-angle rotation matrix up to degree `lmax`.\"\"\"\n",
    "    blocks = [RAxisAngle(l, u1, u2, u3, theta) for l in range(lmax + 1)]\n",
    "    return BlockDiagMatrix(*blocks)"
   ]
  },
  {
   "cell_type": "markdown",
   "metadata": {},
   "source": [
    "And just for fun, let's define a rotation function to operate on actual `starry` spherical harmonic maps:"
   ]
  },
  {
   "cell_type": "code",
   "execution_count": 9,
   "metadata": {},
   "outputs": [],
   "source": [
    "def rotate(map, u, theta):\n",
    "    \"\"\"Rotate a starry spherical harmonic map `y` using the rotation matrix defined above.\"\"\"\n",
    "    y = Matrix(map.y)\n",
    "    yrot = Matrix(R(map.lmax, u[0], u[1], u[2], theta)) * y\n",
    "    map[:] = np.array(yrot[:])"
   ]
  },
  {
   "cell_type": "code",
   "execution_count": 27,
   "metadata": {},
   "outputs": [
    {
     "data": {
      "text/latex": [
       "$\\displaystyle \\left[\\begin{matrix}1 & 0 & 0 & 0 & 0 & 0 & 0 & 0 & 0\\\\0 & 0 & -1.0 & 0 & 0 & 0 & 0 & 0 & 0\\\\0 & 1.0 & 0 & 0 & 0 & 0 & 0 & 0 & 0\\\\0 & 0 & 0 & 1.0 & 0 & 0 & 0 & 0 & 0\\\\0 & 0 & 0 & 0 & 0 & 0 & 0 & -1.0 & 0\\\\0 & 0 & 0 & 0 & 0 & -1.0 & 0 & 0 & 0\\\\0 & 0 & 0 & 0 & 0 & 0 & -0.5 & 0 & - 0.5 \\sqrt{3}\\\\0 & 0 & 0 & 0 & 1.0 & 0 & 0 & 0 & 0\\\\0 & 0 & 0 & 0 & 0 & 0 & - 0.5 \\sqrt{3} & 0 & 0.5\\end{matrix}\\right]$"
      ],
      "text/plain": [
       "⎡1   0    0     0    0    0       0      0       0   ⎤\n",
       "⎢                                                    ⎥\n",
       "⎢0   0   -1.0   0    0    0       0      0       0   ⎥\n",
       "⎢                                                    ⎥\n",
       "⎢0  1.0   0     0    0    0       0      0       0   ⎥\n",
       "⎢                                                    ⎥\n",
       "⎢0   0    0    1.0   0    0       0      0       0   ⎥\n",
       "⎢                                                    ⎥\n",
       "⎢0   0    0     0    0    0       0     -1.0     0   ⎥\n",
       "⎢                                                    ⎥\n",
       "⎢0   0    0     0    0   -1.0     0      0       0   ⎥\n",
       "⎢                                                    ⎥\n",
       "⎢0   0    0     0    0    0     -0.5     0    -0.5⋅√3⎥\n",
       "⎢                                                    ⎥\n",
       "⎢0   0    0     0   1.0   0       0      0       0   ⎥\n",
       "⎢                                                    ⎥\n",
       "⎣0   0    0     0    0    0    -0.5⋅√3   0      0.5  ⎦"
      ]
     },
     "execution_count": 27,
     "metadata": {},
     "output_type": "execute_result"
    }
   ],
   "source": [
    "Matrix(R(2, 1, 0, 0, np.pi/2))"
   ]
  },
  {
   "cell_type": "code",
   "execution_count": 16,
   "metadata": {},
   "outputs": [],
   "source": [
    "def Omega(R_func, theta, dtheta):\n",
    "    \"\"\"Calculate the matrix Ω for a given rotation matrix R(θ).\"\"\"\n",
    "    R_theta = R_func(theta)\n",
    "    R_theta_dtheta = R_func(theta + dtheta)\n",
    "    \n",
    "    Omega = (R_theta_dtheta - R_theta) / dtheta\n",
    "    return Omega\n",
    "\n",
    "lmax = 2\n",
    "u1 = 1\n",
    "u2 = 0\n",
    "u3 = 0\n",
    "theta = 0.1 \n",
    "\n",
    "dtheta = 1e-6  # Small angle increment for finite difference\n",
    "Om = np.array(Omega(lambda t: R(lmax, u1, u2, u3, t), theta, dtheta))\n"
   ]
  },
  {
   "cell_type": "code",
   "execution_count": 17,
   "metadata": {},
   "outputs": [
    {
     "data": {
      "text/latex": [
       "$\\displaystyle \\left[\\begin{matrix}0 & 0 & 0 & 0 & 0 & 0 & 0 & 0 & 0\\\\0 & -0.0998339142466165 & -0.995004115419973 & 0 & 0 & 0 & 0 & 0 & 0\\\\0 & 0.995004115419973 & -0.0998339142466165 & 0 & 0 & 0 & 0 & 0 & 0\\\\0 & 0 & 0 & 0 & 0 & 0 & 0 & 0 & 0\\\\0 & 0 & 0 & 0 & -0.0998339143576388 & 0 & 0 & -0.995004115392217 & 0\\\\0 & 0 & 0 & 0 & 0 & -0.397340621849374 & - 0.980066379219213 \\sqrt{3} & 0 & -0.980066379205335\\\\0 & 0 & 0 & 0 & 0 & 0.980066379219213 \\sqrt{3} & -0.298005466414786 & 0 & - 0.0993351554371899 \\sqrt{3}\\\\0 & 0 & 0 & 0 & 0.995004115392217 & 0 & 0 & -0.0998339143576388 & 0\\\\0 & 0 & 0 & 0 & 0 & 0.980066379205335 & - 0.0993351554371899 \\sqrt{3} & 0 & -0.0993351555456101\\end{matrix}\\right]$"
      ],
      "text/plain": [
       "⎡0           0                    0           0           0                   \n",
       "⎢                                                                             \n",
       "⎢0  -0.0998339142466165  -0.995004115419973   0           0                   \n",
       "⎢                                                                             \n",
       "⎢0   0.995004115419973   -0.0998339142466165  0           0                   \n",
       "⎢                                                                             \n",
       "⎢0           0                    0           0           0                   \n",
       "⎢                                                                             \n",
       "⎢0           0                    0           0  -0.0998339143576388          \n",
       "⎢                                                                             \n",
       "⎢0           0                    0           0           0            -0.3973\n",
       "⎢                                                                             \n",
       "⎢0           0                    0           0           0           0.980066\n",
       "⎢                                                                             \n",
       "⎢0           0                    0           0   0.995004115392217           \n",
       "⎢                                                                             \n",
       "⎣0           0                    0           0           0            0.98006\n",
       "\n",
       " 0                      0                      0                     0        \n",
       "                                                                              \n",
       " 0                      0                      0                     0        \n",
       "                                                                              \n",
       " 0                      0                      0                     0        \n",
       "                                                                              \n",
       " 0                      0                      0                     0        \n",
       "                                                                              \n",
       " 0                      0             -0.995004115392217             0        \n",
       "                                                                              \n",
       "40621849374   -0.980066379219213⋅√3            0             -0.98006637920533\n",
       "                                                                              \n",
       "379219213⋅√3    -0.298005466414786             0           -0.0993351554371899\n",
       "                                                                              \n",
       " 0                      0             -0.0998339143576388            0        \n",
       "                                                                              \n",
       "6379205335    -0.0993351554371899⋅√3           0            -0.099335155545610\n",
       "\n",
       "   ⎤\n",
       "   ⎥\n",
       "   ⎥\n",
       "   ⎥\n",
       "   ⎥\n",
       "   ⎥\n",
       "   ⎥\n",
       "   ⎥\n",
       "   ⎥\n",
       "   ⎥\n",
       "5  ⎥\n",
       "   ⎥\n",
       "⋅√3⎥\n",
       "   ⎥\n",
       "   ⎥\n",
       "   ⎥\n",
       "1  ⎦"
      ]
     },
     "execution_count": 17,
     "metadata": {},
     "output_type": "execute_result"
    }
   ],
   "source": [
    "Matrix(Omega(lambda t: R(lmax, u1, u2, u3, t), theta, dtheta))"
   ]
  },
  {
   "cell_type": "code",
   "execution_count": 25,
   "metadata": {},
   "outputs": [
    {
     "data": {
      "text/plain": [
       "array([[0, 0, 0, 0, 0, 0, 0, 0, 0],\n",
       "       [0, -0.0998339142466165, -0.995004115419973, 0, 0, 0, 0, 0, 0],\n",
       "       [0, 0.995004115419973, -0.0998339142466165, 0, 0, 0, 0, 0, 0],\n",
       "       [0, 0, 0, 0, 0, 0, 0, 0, 0],\n",
       "       [0, 0, 0, 0, -0.0998339143576388, 0, 0, -0.995004115392217, 0],\n",
       "       [0, 0, 0, 0, 0, -0.397340621849374, -0.980066379219213*sqrt(3), 0,\n",
       "        -0.980066379205335],\n",
       "       [0, 0, 0, 0, 0, 0.980066379219213*sqrt(3), -0.298005466414786, 0,\n",
       "        -0.0993351554371899*sqrt(3)],\n",
       "       [0, 0, 0, 0, 0.995004115392217, 0, 0, -0.0998339143576388, 0],\n",
       "       [0, 0, 0, 0, 0, 0.980066379205335, -0.0993351554371899*sqrt(3), 0,\n",
       "        -0.0993351555456101]], dtype=object)"
      ]
     },
     "execution_count": 25,
     "metadata": {},
     "output_type": "execute_result"
    }
   ],
   "source": [
    "Om"
   ]
  },
  {
   "cell_type": "code",
   "execution_count": 30,
   "metadata": {},
   "outputs": [
    {
     "data": {
      "text/plain": [
       "array([[1.00000000000000, 0, 0, 0, 0, 0, 0, 0, 0],\n",
       "       [0, -9.95004115419973e-7, -0.999999900166086, 0, 0, 0, 0, 0, 0],\n",
       "       [0, 0.999999900166086, -9.95004115419973e-7, 0, 0, 0, 0, 0, 0],\n",
       "       [0, 0, 0, 1.00000000000000, 0, 0, 0, 0, 0],\n",
       "       [0, 0, 0, 0, -9.95004115392217e-7, 0, 0, -0.999999900166086, 0],\n",
       "       [0, 0, 0, 0, 0, -0.999999602659378, 9.80066379212274e-7*sqrt(3),\n",
       "        0, 9.80066379226152e-7],\n",
       "       [0, 0, 0, 0, 0, -9.80066379219213e-7*sqrt(3), -0.499999701994534,\n",
       "        0, -0.499999900664845*sqrt(3)],\n",
       "       [0, 0, 0, 0, 0.999999900166086, 0, 0, -9.95004115392217e-7, 0],\n",
       "       [0, 0, 0, 0, 0, -9.80066379205335e-7, -0.499999900664845*sqrt(3),\n",
       "        0, 0.500000099335155]], dtype=object)"
      ]
     },
     "execution_count": 30,
     "metadata": {},
     "output_type": "execute_result"
    }
   ],
   "source": [
    "(np.identity(9) + dtheta * Om) @ np.array(R(2, 1, 0, 0, np.pi/2))"
   ]
  },
  {
   "cell_type": "code",
   "execution_count": null,
   "metadata": {},
   "outputs": [],
   "source": []
  }
 ],
 "metadata": {
  "kernelspec": {
   "display_name": "Python 3",
   "language": "python",
   "name": "python3"
  },
  "language_info": {
   "codemirror_mode": {
    "name": "ipython",
    "version": 3
   },
   "file_extension": ".py",
   "mimetype": "text/x-python",
   "name": "python",
   "nbconvert_exporter": "python",
   "pygments_lexer": "ipython3",
   "version": "3.8.16"
  }
 },
 "nbformat": 4,
 "nbformat_minor": 2
}
