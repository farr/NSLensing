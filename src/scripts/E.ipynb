{
 "cells": [
  {
   "cell_type": "markdown",
   "metadata": {},
   "source": [
    "# Energy ratio"
   ]
  },
  {
   "cell_type": "code",
   "execution_count": 1,
   "metadata": {},
   "outputs": [],
   "source": [
    "from IPython.display import display, Math\n",
    "from sympy import *\n",
    "\n",
    "%matplotlib inline"
   ]
  },
  {
   "cell_type": "code",
   "execution_count": 2,
   "metadata": {},
   "outputs": [],
   "source": [
    "%config InlineBackend.figure_format = 'retina'"
   ]
  },
  {
   "cell_type": "code",
   "execution_count": 20,
   "metadata": {},
   "outputs": [],
   "source": [
    "# Define our symbols\n",
    "r, theta, phi, theta1, theta2, theta0, rns, vrot, e, X, l = symbols('r theta phi theta1 theta2 theta0, rns, vrot e X l')\n",
    "init_printing(use_unicode=True)"
   ]
  },
  {
   "cell_type": "code",
   "execution_count": 21,
   "metadata": {},
   "outputs": [],
   "source": [
    "x = r * sin(theta) * cos(phi);\n",
    "y = r * sin(theta) * sin(phi);\n",
    "z = r * cos(theta)"
   ]
  },
  {
   "cell_type": "code",
   "execution_count": 22,
   "metadata": {},
   "outputs": [],
   "source": [
    "Rz = Matrix([[cos(theta1), -sin(theta1), 0],\n",
    "      [sin(theta1), cos(theta1), 0],\n",
    "      [0,            0,         1]])"
   ]
  },
  {
   "cell_type": "code",
   "execution_count": 23,
   "metadata": {},
   "outputs": [
    {
     "data": {
      "text/latex": [
       "$\\displaystyle \\left[\\begin{matrix}\\cos{\\left(\\theta_{1} \\right)} & - \\sin{\\left(\\theta_{1} \\right)} & 0\\\\\\sin{\\left(\\theta_{1} \\right)} & \\cos{\\left(\\theta_{1} \\right)} & 0\\\\0 & 0 & 1\\end{matrix}\\right]$"
      ],
      "text/plain": [
       "⎡cos(θ₁)  -sin(θ₁)  0⎤\n",
       "⎢                    ⎥\n",
       "⎢sin(θ₁)  cos(θ₁)   0⎥\n",
       "⎢                    ⎥\n",
       "⎣   0        0      1⎦"
      ]
     },
     "execution_count": 23,
     "metadata": {},
     "output_type": "execute_result"
    }
   ],
   "source": [
    "Rz"
   ]
  },
  {
   "cell_type": "code",
   "execution_count": 24,
   "metadata": {},
   "outputs": [],
   "source": [
    "x_, y_, z_ = (Rz * Matrix([x,y,z]))[0], (Rz * Matrix([x,y,z]))[1], (Rz * Matrix([x,y,z]))[2]"
   ]
  },
  {
   "cell_type": "code",
   "execution_count": 25,
   "metadata": {},
   "outputs": [],
   "source": [
    "Ry = Matrix([[cos(theta2), 0, sin(theta2)],\n",
    "            [0,            1,           0],\n",
    "            [-sin(theta2), 0, cos(theta2)]])"
   ]
  },
  {
   "cell_type": "code",
   "execution_count": 26,
   "metadata": {},
   "outputs": [],
   "source": [
    "x__, y__, z__ = (Ry * Matrix([x_,y_,z_]))[0], (Ry * Matrix([x_,y_,z_]))[1], (Ry * Matrix([x_,y_,z_]))[2]"
   ]
  },
  {
   "cell_type": "code",
   "execution_count": 27,
   "metadata": {},
   "outputs": [],
   "source": [
    "r__ = sqrt(x__**2 + y__**2 + z__**2)\n",
    "theta__ = acos(z__ / r__)\n",
    "phi__ = atan2(y__, x__)"
   ]
  },
  {
   "cell_type": "code",
   "execution_count": 28,
   "metadata": {},
   "outputs": [],
   "source": [
    "dt_dlambda = 1 + 1/2 * vrot**2 * sin(theta0)**2 + (1 + 3/2 * vrot**2 * sin(theta0)**2) / rnsd"
   ]
  },
  {
   "cell_type": "code",
   "execution_count": 29,
   "metadata": {},
   "outputs": [
    {
     "data": {
      "image/png": "[encoded data removed]",
      "text/latex": [
       "$\\displaystyle 0.5 vrot^{2} \\sin^{2}{\\left(\\theta_{0} \\right)} + 1 + \\frac{1.5 vrot^{2} \\sin^{2}{\\left(\\theta_{0} \\right)} + 1}{rns}$"
      ],
      "text/plain": [
       "                                 2    2        \n",
       "        2    2           1.5⋅vrot ⋅sin (θ₀) + 1\n",
       "0.5⋅vrot ⋅sin (θ₀) + 1 + ──────────────────────\n",
       "                                  rns          "
      ]
     },
     "execution_count": 29,
     "metadata": {},
     "output_type": "execute_result"
    }
   ],
   "source": [
    "dt_dlambda"
   ]
  },
  {
   "cell_type": "code",
   "execution_count": 30,
   "metadata": {},
   "outputs": [],
   "source": [
    "pt = e * (1 + 2/rns);\n",
    "pr = e * sqrt(1 - X);\n",
    "ptheta = X * e * cos(theta0) / rns * (1 + 1 / rns);\n",
    "pphi = X * e / rns * (1 + 1 / rns);"
   ]
  },
  {
   "cell_type": "code",
   "execution_count": 31,
   "metadata": {},
   "outputs": [
    {
     "data": {
      "image/png": "[encoded data removed]",
      "text/latex": [
       "$\\displaystyle \\sqrt{\\left(r \\sin{\\left(\\theta_{2} \\right)} \\cos{\\left(\\theta \\right)} + \\left(- r \\sin{\\left(\\phi \\right)} \\sin{\\left(\\theta \\right)} \\sin{\\left(\\theta_{1} \\right)} + r \\sin{\\left(\\theta \\right)} \\cos{\\left(\\phi \\right)} \\cos{\\left(\\theta_{1} \\right)}\\right) \\cos{\\left(\\theta_{2} \\right)}\\right)^{2} + \\left(r \\cos{\\left(\\theta \\right)} \\cos{\\left(\\theta_{2} \\right)} - \\left(- r \\sin{\\left(\\phi \\right)} \\sin{\\left(\\theta \\right)} \\sin{\\left(\\theta_{1} \\right)} + r \\sin{\\left(\\theta \\right)} \\cos{\\left(\\phi \\right)} \\cos{\\left(\\theta_{1} \\right)}\\right) \\sin{\\left(\\theta_{2} \\right)}\\right)^{2} + \\left(r \\sin{\\left(\\phi \\right)} \\sin{\\left(\\theta \\right)} \\cos{\\left(\\theta_{1} \\right)} + r \\sin{\\left(\\theta \\right)} \\sin{\\left(\\theta_{1} \\right)} \\cos{\\left(\\phi \\right)}\\right)^{2}}$"
      ],
      "text/plain": [
       "   ___________________________________________________________________________\n",
       "  ╱                                                                           \n",
       "╲╱  (r⋅sin(θ₂)⋅cos(θ) + (-r⋅sin(φ)⋅sin(θ)⋅sin(θ₁) + r⋅sin(θ)⋅cos(φ)⋅cos(θ₁))⋅c\n",
       "\n",
       "______________________________________________________________________________\n",
       "       2                                                                      \n",
       "os(θ₂))  + (r⋅cos(θ)⋅cos(θ₂) - (-r⋅sin(φ)⋅sin(θ)⋅sin(θ₁) + r⋅sin(θ)⋅cos(φ)⋅cos\n",
       "\n",
       "_______________________________________________________________________\n",
       "              2                                                      2 \n",
       "(θ₁))⋅sin(θ₂))  + (r⋅sin(φ)⋅sin(θ)⋅cos(θ₁) + r⋅sin(θ)⋅sin(θ₁)⋅cos(φ))  "
      ]
     },
     "execution_count": 31,
     "metadata": {},
     "output_type": "execute_result"
    }
   ],
   "source": [
    "r__"
   ]
  },
  {
   "cell_type": "code",
   "execution_count": 32,
   "metadata": {},
   "outputs": [
    {
     "data": {
      "image/png": "[encoded data removed]",
      "text/latex": [
       "$\\displaystyle \\operatorname{acos}{\\left(\\frac{r \\cos{\\left(\\theta \\right)} \\cos{\\left(\\theta_{2} \\right)} - \\left(- r \\sin{\\left(\\phi \\right)} \\sin{\\left(\\theta \\right)} \\sin{\\left(\\theta_{1} \\right)} + r \\sin{\\left(\\theta \\right)} \\cos{\\left(\\phi \\right)} \\cos{\\left(\\theta_{1} \\right)}\\right) \\sin{\\left(\\theta_{2} \\right)}}{\\sqrt{\\left(r \\sin{\\left(\\theta_{2} \\right)} \\cos{\\left(\\theta \\right)} + \\left(- r \\sin{\\left(\\phi \\right)} \\sin{\\left(\\theta \\right)} \\sin{\\left(\\theta_{1} \\right)} + r \\sin{\\left(\\theta \\right)} \\cos{\\left(\\phi \\right)} \\cos{\\left(\\theta_{1} \\right)}\\right) \\cos{\\left(\\theta_{2} \\right)}\\right)^{2} + \\left(r \\cos{\\left(\\theta \\right)} \\cos{\\left(\\theta_{2} \\right)} - \\left(- r \\sin{\\left(\\phi \\right)} \\sin{\\left(\\theta \\right)} \\sin{\\left(\\theta_{1} \\right)} + r \\sin{\\left(\\theta \\right)} \\cos{\\left(\\phi \\right)} \\cos{\\left(\\theta_{1} \\right)}\\right) \\sin{\\left(\\theta_{2} \\right)}\\right)^{2} + \\left(r \\sin{\\left(\\phi \\right)} \\sin{\\left(\\theta \\right)} \\cos{\\left(\\theta_{1} \\right)} + r \\sin{\\left(\\theta \\right)} \\sin{\\left(\\theta_{1} \\right)} \\cos{\\left(\\phi \\right)}\\right)^{2}}} \\right)}$"
      ],
      "text/plain": [
       "    ⎛                                                                         \n",
       "acos⎜─────────────────────────────────────────────────────────────────────────\n",
       "    ⎜   ______________________________________________________________________\n",
       "    ⎜  ╱                                                                      \n",
       "    ⎝╲╱  (r⋅sin(θ₂)⋅cos(θ) + (-r⋅sin(φ)⋅sin(θ)⋅sin(θ₁) + r⋅sin(θ)⋅cos(φ)⋅cos(θ\n",
       "\n",
       " r⋅cos(θ)⋅cos(θ₂) - (-r⋅sin(φ)⋅sin(θ)⋅sin(θ₁) + r⋅sin(θ)⋅cos(φ)⋅cos(θ₁))⋅sin(θ\n",
       "──────────────────────────────────────────────────────────────────────────────\n",
       "______________________________________________________________________________\n",
       "            2                                                                 \n",
       "₁))⋅cos(θ₂))  + (r⋅cos(θ)⋅cos(θ₂) - (-r⋅sin(φ)⋅sin(θ)⋅sin(θ₁) + r⋅sin(θ)⋅cos(φ\n",
       "\n",
       "₂)                                                                          ⎞\n",
       "────────────────────────────────────────────────────────────────────────────⎟\n",
       "____________________________________________________________________________⎟\n",
       "                   2                                                      2 ⎟\n",
       ")⋅cos(θ₁))⋅sin(θ₂))  + (r⋅sin(φ)⋅sin(θ)⋅cos(θ₁) + r⋅sin(θ)⋅sin(θ₁)⋅cos(φ))  ⎠"
      ]
     },
     "execution_count": 32,
     "metadata": {},
     "output_type": "execute_result"
    }
   ],
   "source": [
    "theta__"
   ]
  },
  {
   "cell_type": "code",
   "execution_count": 33,
   "metadata": {},
   "outputs": [
    {
     "data": {
      "image/png": "[encoded data removed]",
      "text/latex": [
       "$\\displaystyle \\operatorname{atan}_{2}{\\left(r \\sin{\\left(\\phi \\right)} \\sin{\\left(\\theta \\right)} \\cos{\\left(\\theta_{1} \\right)} + r \\sin{\\left(\\theta \\right)} \\sin{\\left(\\theta_{1} \\right)} \\cos{\\left(\\phi \\right)},r \\sin{\\left(\\theta_{2} \\right)} \\cos{\\left(\\theta \\right)} + \\left(- r \\sin{\\left(\\phi \\right)} \\sin{\\left(\\theta \\right)} \\sin{\\left(\\theta_{1} \\right)} + r \\sin{\\left(\\theta \\right)} \\cos{\\left(\\phi \\right)} \\cos{\\left(\\theta_{1} \\right)}\\right) \\cos{\\left(\\theta_{2} \\right)} \\right)}$"
      ],
      "text/plain": [
       "atan2(r⋅sin(φ)⋅sin(θ)⋅cos(θ₁) + r⋅sin(θ)⋅sin(θ₁)⋅cos(φ), r⋅sin(θ₂)⋅cos(θ) + (-\n",
       "r⋅sin(φ)⋅sin(θ)⋅sin(θ₁) + r⋅sin(θ)⋅cos(φ)⋅cos(θ₁))⋅cos(θ₂))"
      ]
     },
     "execution_count": 33,
     "metadata": {},
     "output_type": "execute_result"
    }
   ],
   "source": [
    "phi__"
   ]
  },
  {
   "cell_type": "code",
   "execution_count": 34,
   "metadata": {},
   "outputs": [],
   "source": [
    "g_t = -(1-2/r)\n",
    "g_r = 1/(1-2/r)\n",
    "g_theta = r**2\n",
    "g_phi = r**2 * sin(theta)**2"
   ]
  },
  {
   "cell_type": "code",
   "execution_count": 35,
   "metadata": {},
   "outputs": [
    {
     "data": {
      "image/png": "[encoded data removed]",
      "text/latex": [
       "$\\displaystyle 0$"
      ],
      "text/plain": [
       "0"
      ]
     },
     "execution_count": 35,
     "metadata": {},
     "output_type": "execute_result"
    }
   ],
   "source": [
    "phi__.diff(l)"
   ]
  },
  {
   "cell_type": "code",
   "execution_count": null,
   "metadata": {},
   "outputs": [],
   "source": []
  }
 ],
 "metadata": {
  "kernelspec": {
   "display_name": "Python 3",
   "language": "python",
   "name": "python3"
  },
  "language_info": {
   "codemirror_mode": {
    "name": "ipython",
    "version": 3
   },
   "file_extension": ".py",
   "mimetype": "text/x-python",
   "name": "python",
   "nbconvert_exporter": "python",
   "pygments_lexer": "ipython3",
   "version": "3.8.16"
  }
 },
 "nbformat": 4,
 "nbformat_minor": 2
}
